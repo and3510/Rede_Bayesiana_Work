{
 "cells": [
  {
   "cell_type": "markdown",
   "metadata": {},
   "source": [
    "# 1. Exploração e Pré-processamento dos Dados\n"
   ]
  },
  {
   "cell_type": "markdown",
   "metadata": {},
   "source": [
    "## a. Análise Exploratória"
   ]
  },
  {
   "cell_type": "code",
   "execution_count": null,
   "metadata": {},
   "outputs": [],
   "source": [
    "# Importação de bibliotecas:\n",
    "import pandas as pd\n",
    "import numpy as np\n",
    "import matplotlib.pyplot as plt\n",
    "import seaborn as sns\n"
   ]
  },
  {
   "cell_type": "code",
   "execution_count": null,
   "metadata": {},
   "outputs": [],
   "source": [
    "# Carregamento do dataset:\n",
    "df = pd.read_csv('caminho/do/seu/dataset.csv')\n",
    "\n",
    "# Exibição das primeiras linhas:\n",
    "print(df.head())\n",
    "\n",
    "# Análise estatística básica:\n",
    "print(df.describe())\n",
    "print(df.info())\n"
   ]
  },
  {
   "cell_type": "markdown",
   "metadata": {},
   "source": [
    "## b. Visualização das Variáveis"
   ]
  },
  {
   "cell_type": "code",
   "execution_count": null,
   "metadata": {},
   "outputs": [],
   "source": [
    "# Histogramas para variáveis numéricas (como age, hours-per-week, capital-gain, etc.):\n",
    "\n",
    "df.hist(bins=30, figsize=(15, 10))\n",
    "plt.show()\n",
    "\n",
    "# Gráficos de dispersão e boxplots para variáveis categóricas e numéricas:\n",
    "\n",
    "sns.boxplot(x='income', y='age', data=df)\n",
    "plt.show()\n",
    "sns.countplot(x='education', hue='income', data=df)\n",
    "plt.xticks(rotation=45)\n",
    "plt.show()\n",
    "\n",
    "\n"
   ]
  },
  {
   "cell_type": "markdown",
   "metadata": {},
   "source": [
    "## c. Tratamento de Valores Ausentes e Atípicos"
   ]
  },
  {
   "cell_type": "code",
   "execution_count": null,
   "metadata": {},
   "outputs": [],
   "source": [
    "# Identificação de valores ausentes:\n",
    "\n",
    "print(df.isnull().sum())\n",
    "\n",
    "\n",
    "# Tratamento:\n",
    "\n",
    "df.fillna(method='ffill', inplace=True)  # Exemplo: preenchendo valores ausentes\n",
    "\n",
    "# Remoção de outliers (exemplo com age):\n",
    "\n",
    "df = df[(np.abs(stats.zscore(df['age'])) < 3)]  # Usando Z-score\n"
   ]
  },
  {
   "cell_type": "markdown",
   "metadata": {},
   "source": [
    "## d. Codificação de Variáveis"
   ]
  },
  {
   "cell_type": "code",
   "execution_count": null,
   "metadata": {},
   "outputs": [],
   "source": [
    "# Codificação de variáveis categóricas (como workclass, education, marital-status, \n",
    "# occupation, relationship, race, gender, e native-country):\n",
    "\n",
    "df = pd.get_dummies(df, columns=['workclass', 'education', 'marital-status', 'occupation', 'relationship', 'race', 'gender', 'native-country'], drop_first=True)\n",
    "\n"
   ]
  },
  {
   "cell_type": "markdown",
   "metadata": {},
   "source": [
    "# 2. Estruturação da Rede Bayesiana"
   ]
  },
  {
   "cell_type": "markdown",
   "metadata": {},
   "source": [
    "## a. Construção da Rede"
   ]
  },
  {
   "cell_type": "code",
   "execution_count": null,
   "metadata": {},
   "outputs": [],
   "source": [
    "# Importação de bibliotecas necessárias:\n",
    "\n",
    "from pgmpy.models import BayesianModel\n",
    "\n",
    "# Definição das dependências: Com base na análise exploratória, você pode considerar \n",
    "# variáveis como age, education, occupation e hours-per-week como influentes na variável income.\n",
    "\n",
    "model = BayesianModel([\n",
    "    ('age', 'income'),\n",
    "    ('education', 'income'),\n",
    "    ('occupation', 'income'),\n",
    "    ('hours-per-week', 'income')\n",
    "])\n",
    "\n",
    "\n"
   ]
  },
  {
   "cell_type": "markdown",
   "metadata": {},
   "source": [
    "## b. Justificação da Estrutura"
   ]
  },
  {
   "cell_type": "code",
   "execution_count": null,
   "metadata": {},
   "outputs": [],
   "source": [
    "# Análise de dados e conhecimento prévio: A escolha das dependências deve ser justificada com base em:\n",
    "\n",
    "#     A correlação observada nas análises.\n",
    "#     O conhecimento prévio sobre como essas variáveis afetam a renda.\n",
    "\n"
   ]
  },
  {
   "cell_type": "markdown",
   "metadata": {},
   "source": [
    "# 3. Treinamento e Ajuste de Hiperparâmetros"
   ]
  },
  {
   "cell_type": "markdown",
   "metadata": {},
   "source": [
    "## a. Treinamento da Rede"
   ]
  },
  {
   "cell_type": "code",
   "execution_count": 4,
   "metadata": {},
   "outputs": [
    {
     "ename": "ModuleNotFoundError",
     "evalue": "No module named 'pgmpy'",
     "output_type": "error",
     "traceback": [
      "\u001b[0;31m---------------------------------------------------------------------------\u001b[0m",
      "\u001b[0;31mModuleNotFoundError\u001b[0m                       Traceback (most recent call last)",
      "Cell \u001b[0;32mIn[4], line 3\u001b[0m\n\u001b[1;32m      1\u001b[0m \u001b[38;5;66;03m# Importação de dados para treinamento:\u001b[39;00m\n\u001b[0;32m----> 3\u001b[0m \u001b[38;5;28;01mfrom\u001b[39;00m \u001b[38;5;21;01mpgmpy\u001b[39;00m\u001b[38;5;21;01m.\u001b[39;00m\u001b[38;5;21;01minference\u001b[39;00m \u001b[38;5;28;01mimport\u001b[39;00m VariableElimination\n\u001b[1;32m      4\u001b[0m \u001b[38;5;28;01mfrom\u001b[39;00m \u001b[38;5;21;01mpgmpy\u001b[39;00m\u001b[38;5;21;01m.\u001b[39;00m\u001b[38;5;21;01mestimators\u001b[39;00m \u001b[38;5;28;01mimport\u001b[39;00m MaximumLikelihoodEstimator\n\u001b[1;32m      6\u001b[0m model\u001b[38;5;241m.\u001b[39mfit(df, estimator\u001b[38;5;241m=\u001b[39mMaximumLikelihoodEstimator)\n",
      "\u001b[0;31mModuleNotFoundError\u001b[0m: No module named 'pgmpy'"
     ]
    }
   ],
   "source": [
    "# Importação de dados para treinamento:\n",
    "\n",
    "from pgmpy.inference import VariableElimination\n",
    "from pgmpy.estimators import MaximumLikelihoodEstimator\n",
    "\n",
    "model.fit(df, estimator=MaximumLikelihoodEstimator)\n",
    "\n"
   ]
  },
  {
   "cell_type": "markdown",
   "metadata": {},
   "source": [
    "## b. Ajuste de Hiperparâmetros"
   ]
  },
  {
   "cell_type": "code",
   "execution_count": null,
   "metadata": {},
   "outputs": [],
   "source": [
    "# Ajuste da estrutura da rede: Você pode usar métodos como K2 ou Hill Climb para otimizar a estrutura.\n",
    "\n",
    "from pgmpy.estimators import HillClimbSearch, BicScore\n",
    "\n",
    "hc = HillClimbSearch(df)\n",
    "best_model = hc.estimate(scoring_method=BicScore(df))\n",
    "\n",
    "\n"
   ]
  },
  {
   "cell_type": "markdown",
   "metadata": {},
   "source": [
    "# 4. Avaliação do Modelo"
   ]
  },
  {
   "cell_type": "markdown",
   "metadata": {},
   "source": [
    "## a. Uso de Métricas"
   ]
  },
  {
   "cell_type": "code",
   "execution_count": null,
   "metadata": {},
   "outputs": [],
   "source": [
    "# Predição e avaliação:\n",
    "\n",
    "inference = VariableElimination(model)\n",
    "predicted = inference.map_query(variables=['income'], evidence={'age': 30, 'education_HS-grad': 1, 'occupation_Exec-managerial': 1})\n",
    "\n"
   ]
  },
  {
   "cell_type": "markdown",
   "metadata": {},
   "source": [
    "## b. Cálculo de Métricas"
   ]
  },
  {
   "cell_type": "code",
   "execution_count": null,
   "metadata": {},
   "outputs": [],
   "source": [
    "# Acurácia, Entropia Cruzada, AUC:\n",
    "# Primeiro, divida seus dados em conjuntos de treino e teste.\n",
    "\n",
    "from sklearn.model_selection import train_test_split\n",
    "from sklearn.metrics import accuracy_score, roc_auc_score\n",
    "\n",
    "X_train, X_test, y_train, y_test = train_test_split(df.drop('income', axis=1), df['income'], test_size=0.2, random_state=42)\n",
    "\n",
    "# Após treinar seu modelo, faça previsões\n",
    "y_pred = model.predict(X_test)\n",
    "\n",
    "print(\"Acurácia:\", accuracy_score(y_test, y_pred))\n",
    "print(\"AUC:\", roc_auc_score(y_test, y_pred))\n"
   ]
  }
 ],
 "metadata": {
  "kernelspec": {
   "display_name": "venv",
   "language": "python",
   "name": "python3"
  },
  "language_info": {
   "codemirror_mode": {
    "name": "ipython",
    "version": 3
   },
   "file_extension": ".py",
   "mimetype": "text/x-python",
   "name": "python",
   "nbconvert_exporter": "python",
   "pygments_lexer": "ipython3",
   "version": "3.10.12"
  }
 },
 "nbformat": 4,
 "nbformat_minor": 2
}
